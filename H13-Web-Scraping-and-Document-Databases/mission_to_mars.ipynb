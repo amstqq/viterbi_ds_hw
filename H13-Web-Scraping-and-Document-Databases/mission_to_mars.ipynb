{
 "cells": [
  {
   "cell_type": "code",
   "execution_count": 1,
   "metadata": {},
   "outputs": [],
   "source": [
    "from splinter import Browser\n",
    "from bs4 import BeautifulSoup"
   ]
  },
  {
   "cell_type": "code",
   "execution_count": 2,
   "metadata": {},
   "outputs": [],
   "source": [
    "executable_path = {'executable_path': 'chromedriver.exe'}\n",
    "browser = Browser('chrome', **executable_path, headless=False)"
   ]
  },
  {
   "cell_type": "markdown",
   "metadata": {},
   "source": [
    "# NASA Mars News"
   ]
  },
  {
   "cell_type": "code",
   "execution_count": 3,
   "metadata": {},
   "outputs": [],
   "source": [
    "url1 = 'https://mars.nasa.gov/news/'\n",
    "browser.visit(url1)\n",
    "html1 = browser.html\n",
    "soup1 = BeautifulSoup(html1, 'html.parser')"
   ]
  },
  {
   "cell_type": "code",
   "execution_count": 4,
   "metadata": {},
   "outputs": [],
   "source": [
    "news_title = soup1.find('div', class_=\"content_title\").text\n",
    "news_p = soup1.find('div', class_=\"article_teaser_body\").text"
   ]
  },
  {
   "cell_type": "markdown",
   "metadata": {},
   "source": [
    "# JPL Mars Space Images - Featured Image"
   ]
  },
  {
   "cell_type": "code",
   "execution_count": 5,
   "metadata": {},
   "outputs": [],
   "source": [
    "url2 = 'https://www.jpl.nasa.gov/spaceimages/?search=&category=Mars'\n",
    "browser.visit(url2)\n",
    "html2 = browser.html\n",
    "soup2 = BeautifulSoup(html2, \"html.parser\")"
   ]
  },
  {
   "cell_type": "code",
   "execution_count": 6,
   "metadata": {},
   "outputs": [],
   "source": [
    "featured_image_url = 'https://www.jpl.nasa.gov' + soup2.find('a', class_=\"fancybox\").get(\"data-fancybox-href\")"
   ]
  },
  {
   "cell_type": "markdown",
   "metadata": {},
   "source": [
    "# Mars Weather"
   ]
  },
  {
   "cell_type": "code",
   "execution_count": 7,
   "metadata": {},
   "outputs": [],
   "source": [
    "url3 = 'https://twitter.com/marswxreport?lang=en'\n",
    "browser.visit(url3)\n",
    "html3 = browser.html\n",
    "soup3 = BeautifulSoup(html3, \"html.parser\")"
   ]
  },
  {
   "cell_type": "code",
   "execution_count": 8,
   "metadata": {},
   "outputs": [],
   "source": [
    "mars_weather = soup3.find('p', class_='tweet-text').text"
   ]
  },
  {
   "cell_type": "markdown",
   "metadata": {},
   "source": [
    "# Mars Facts"
   ]
  },
  {
   "cell_type": "code",
   "execution_count": 9,
   "metadata": {},
   "outputs": [],
   "source": [
    "import pandas as pd\n",
    "url4 = 'https://space-facts.com/mars/'\n",
    "tables = pd.read_html(url4)\n",
    "mars_facts = tables[0].values"
   ]
  },
  {
   "cell_type": "markdown",
   "metadata": {},
   "source": [
    "# Mars Hemispheres"
   ]
  },
  {
   "cell_type": "code",
   "execution_count": 10,
   "metadata": {},
   "outputs": [],
   "source": [
    "url5 = 'https://astrogeology.usgs.gov/search/results?q=hemisphere+enhanced&k1=target&v1=Mars'\n",
    "browser.visit(url5)\n",
    "html5 = browser.html\n",
    "soup5 = BeautifulSoup(html5, \"html.parser\")"
   ]
  },
  {
   "cell_type": "code",
   "execution_count": 11,
   "metadata": {},
   "outputs": [],
   "source": [
    "hemis_list = []\n",
    "hem_titles = soup5.find_all('h3')\n",
    "\n",
    "for i in range(4):\n",
    "    hem_title = hem_titles[i].text\n",
    "    \n",
    "    browser.click_link_by_partial_text(hem_title)\n",
    "    img_html = browser.html\n",
    "    img_soup = BeautifulSoup(img_html, \"html.parser\")\n",
    "    img_url = \"https://astrogeology.usgs.gov\" + img_soup.find(\"img\", class_=\"wide-image\").get(\"src\")\n",
    "    \n",
    "    hemis_list.append({\"title\":hem_title,\"img_url\":img_url})\n",
    "    \n",
    "    browser.click_link_by_partial_text(\"Back\")"
   ]
  },
  {
   "cell_type": "code",
   "execution_count": null,
   "metadata": {},
   "outputs": [],
   "source": []
  },
  {
   "cell_type": "code",
   "execution_count": 22,
   "metadata": {},
   "outputs": [
    {
     "data": {
      "text/plain": [
       "{'featured_image_url': 'https://www.jpl.nasa.gov/spaceimages/images/mediumsize/PIA16919_ip.jpg',\n",
       " 'hemis_list': [{'img_url': 'https://astrogeology.usgs.gov/cache/images/cfa62af2557222a02478f1fcd781d445_cerberus_enhanced.tif_full.jpg',\n",
       "   'title': 'Cerberus Hemisphere Enhanced'},\n",
       "  {'img_url': 'https://astrogeology.usgs.gov/cache/images/3cdd1cbf5e0813bba925c9030d13b62e_schiaparelli_enhanced.tif_full.jpg',\n",
       "   'title': 'Schiaparelli Hemisphere Enhanced'},\n",
       "  {'img_url': 'https://astrogeology.usgs.gov/cache/images/ae209b4e408bb6c3e67b6af38168cf28_syrtis_major_enhanced.tif_full.jpg',\n",
       "   'title': 'Syrtis Major Hemisphere Enhanced'},\n",
       "  {'img_url': 'https://astrogeology.usgs.gov/cache/images/7cf2da4bf549ed01c17f206327be4db7_valles_marineris_enhanced.tif_full.jpg',\n",
       "   'title': 'Valles Marineris Hemisphere Enhanced'}],\n",
       " 'mars_facts': array([['Equatorial Diameter:', '6,792 km'],\n",
       "        ['Polar Diameter:', '6,752 km'],\n",
       "        ['Mass:', '6.42 x 10^23 kg (10.7% Earth)'],\n",
       "        ['Moons:', '2 (Phobos & Deimos)'],\n",
       "        ['Orbit Distance:', '227,943,824 km (1.52 AU)'],\n",
       "        ['Orbit Period:', '687 days (1.9 years)'],\n",
       "        ['Surface Temperature:', '-153 to 20 °C'],\n",
       "        ['First Record:', '2nd millennium BC'],\n",
       "        ['Recorded By:', 'Egyptian astronomers']], dtype=object),\n",
       " 'news_p': \"NASA's InSight spacecraft, en route to a Nov. 26 landing on Mars, passed the halfway mark on Aug. 6. All of its instruments have been tested and are working well.\",\n",
       " 'news_title': \"NASA's InSight Passes Halfway to Mars, Instruments Check In\"}"
      ]
     },
     "execution_count": 22,
     "metadata": {},
     "output_type": "execute_result"
    }
   ],
   "source": [
    "def scrape():\n",
    "    # In[7]:\n",
    "\n",
    "\n",
    "    from splinter import Browser\n",
    "    from bs4 import BeautifulSoup\n",
    "\n",
    "\n",
    "    # In[8]:\n",
    "\n",
    "\n",
    "    executable_path = {'executable_path': 'chromedriver.exe'}\n",
    "    browser = Browser('chrome', **executable_path, headless=False)\n",
    "\n",
    "\n",
    "    # # NASA Mars News\n",
    "\n",
    "    # In[9]:\n",
    "\n",
    "\n",
    "    url1 = 'https://mars.nasa.gov/news/'\n",
    "    browser.visit(url1)\n",
    "    html1 = browser.html\n",
    "    soup1 = BeautifulSoup(html1, 'html.parser')\n",
    "\n",
    "\n",
    "    # In[10]:\n",
    "\n",
    "\n",
    "    news_title = soup1.find('div', class_=\"content_title\").text\n",
    "    news_p = soup1.find('div', class_=\"article_teaser_body\").text\n",
    "\n",
    "\n",
    "    # # JPL Mars Space Images - Featured Image\n",
    "\n",
    "    # In[11]:\n",
    "\n",
    "\n",
    "    url2 = 'https://www.jpl.nasa.gov/spaceimages/?search=&category=Mars'\n",
    "    browser.visit(url2)\n",
    "    html2 = browser.html\n",
    "    soup2 = BeautifulSoup(html2, \"html.parser\")\n",
    "\n",
    "\n",
    "    # In[12]:\n",
    "\n",
    "\n",
    "    featured_image_url = 'https://www.jpl.nasa.gov' + soup2.find('a', class_=\"fancybox\").get(\"data-fancybox-href\")\n",
    "\n",
    "\n",
    "    # # Mars Weather\n",
    "\n",
    "    # In[13]:\n",
    "\n",
    "\n",
    "    url3 = 'https://twitter.com/marswxreport?lang=en'\n",
    "    browser.visit(url3)\n",
    "    html3 = browser.html\n",
    "    soup3 = BeautifulSoup(html3, \"html.parser\")\n",
    "\n",
    "\n",
    "    # In[18]:\n",
    "\n",
    "\n",
    "    mars_weather = soup3.find('p', class_='tweet-text').text\n",
    "\n",
    "\n",
    "    # # Mars Facts\n",
    "\n",
    "    # In[48]:\n",
    "\n",
    "\n",
    "    import pandas as pd\n",
    "    url4 = 'https://space-facts.com/mars/'\n",
    "    tables = pd.read_html(url4)\n",
    "    mars_facts = tables[0].values\n",
    "\n",
    "\n",
    "    # # Mars Hemispheres\n",
    "\n",
    "    # In[31]:\n",
    "\n",
    "\n",
    "    url5 = 'https://astrogeology.usgs.gov/search/results?q=hemisphere+enhanced&k1=target&v1=Mars'\n",
    "    browser.visit(url5)\n",
    "    html5 = browser.html\n",
    "    soup5 = BeautifulSoup(html5, \"html.parser\")\n",
    "\n",
    "\n",
    "    # In[ ]:\n",
    "\n",
    "\n",
    "    hemis_list = []\n",
    "    hem_titles = soup5.find_all('h3')\n",
    "\n",
    "    for i in range(4):\n",
    "        hem_title = hem_titles[i].text\n",
    "\n",
    "        browser.click_link_by_partial_text(hem_title)\n",
    "        img_html = browser.html\n",
    "        img_soup = BeautifulSoup(img_html, \"html.parser\")\n",
    "        img_url = \"https://astrogeology.usgs.gov\" + img_soup.find(\"img\", class_=\"wide-image\").get(\"src\")\n",
    "\n",
    "        hemis_list.append({\"title\":hem_title,\"img_url\":img_url})\n",
    "\n",
    "        browser.click_link_by_partial_text(\"Back\")\n",
    "\n",
    "    return {\n",
    "    \"news_title\":news_title,\n",
    "    \"news_p\":news_p,\n",
    "    \"featured_image_url\":featured_image_url,\n",
    "    \"mars_facts\":mars_facts,\n",
    "    \"hemis_list\":hemis_list\n",
    "    }\n",
    "\n",
    "scrape()"
   ]
  },
  {
   "cell_type": "code",
   "execution_count": null,
   "metadata": {},
   "outputs": [],
   "source": []
  }
 ],
 "metadata": {
  "kernelspec": {
   "display_name": "Python 3",
   "language": "python",
   "name": "python3"
  },
  "language_info": {
   "codemirror_mode": {
    "name": "ipython",
    "version": 3
   },
   "file_extension": ".py",
   "mimetype": "text/x-python",
   "name": "python",
   "nbconvert_exporter": "python",
   "pygments_lexer": "ipython3",
   "version": "3.6.4"
  },
  "varInspector": {
   "cols": {
    "lenName": 16,
    "lenType": 16,
    "lenVar": 40
   },
   "kernels_config": {
    "python": {
     "delete_cmd_postfix": "",
     "delete_cmd_prefix": "del ",
     "library": "var_list.py",
     "varRefreshCmd": "print(var_dic_list())"
    },
    "r": {
     "delete_cmd_postfix": ") ",
     "delete_cmd_prefix": "rm(",
     "library": "var_list.r",
     "varRefreshCmd": "cat(var_dic_list()) "
    }
   },
   "types_to_exclude": [
    "module",
    "function",
    "builtin_function_or_method",
    "instance",
    "_Feature"
   ],
   "window_display": false
  }
 },
 "nbformat": 4,
 "nbformat_minor": 2
}
